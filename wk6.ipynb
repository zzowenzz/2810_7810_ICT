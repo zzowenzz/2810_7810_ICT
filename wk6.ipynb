{
 "cells": [
  {
   "attachments": {},
   "cell_type": "markdown",
   "metadata": {},
   "source": [
    "# Week 6 workshop"
   ]
  },
  {
   "attachments": {},
   "cell_type": "markdown",
   "metadata": {},
   "source": [
    "## Database\n",
    "A collection of logically related data/tables, including metadata - data about data"
   ]
  },
  {
   "attachments": {},
   "cell_type": "markdown",
   "metadata": {},
   "source": [
    "### SQL (Structured Query Language) \n",
    "- A Data Definition Language (DDL) for defining database structure.\n",
    "- A Data Manipulation Language (DML) for retrieving and updating data.\n",
    "- A Data Control Language (DCL) for data control, granting of rights, etc."
   ]
  },
  {
   "attachments": {},
   "cell_type": "markdown",
   "metadata": {},
   "source": [
    "SQL commands\n",
    "\n",
    "<!-- select -->\n",
    "SELECT * FROM Customers;\n",
    "\n",
    "<!-- create  -->\n",
    "CREATE TABLE table_name (\n",
    "column1 datatype,\n",
    "column2 datatype,\n",
    "column3 datatype,\n",
    "....\n",
    ");\n",
    "\n",
    "- table_name must begin with a letter and can only contain letters, numbers, and the underscore character (_).\n",
    "- table_name cannot contain spaces.\n",
    "- data type can be integer, float, varchar, date, etc"
   ]
  },
  {
   "attachments": {},
   "cell_type": "markdown",
   "metadata": {},
   "source": [
    "<!-- create with constraints -->\n",
    "CREATE TABLE Persons (\n",
    "PersonID int PRIMAY KEY,\n",
    "LastName varchar(255) NOT NULL,\n",
    "FirstName varchar(255) NOT NULL,\n",
    "Address varchar(255) NOT NULL,\n",
    "City varchar(255)\n",
    ");\n",
    "\n",
    "- not null: column must have a value\n",
    "- unique: column must have a unique value\n",
    "- primary key: column must have a unique value, and cannot be null\n",
    "- foreign key: column must have a value that exists in another table's primary key\n",
    "- check: column must satisfy a boolean expression\n",
    "- default: column will have a default value if no value is specified\n",
    "- create index: create an index for a column for faster retrieval\n"
   ]
  },
  {
   "attachments": {},
   "cell_type": "markdown",
   "metadata": {},
   "source": [
    "<!-- inserting data -->\n",
    "INSERT INTO table_name (column1, column2, column3, ...)\n",
    "VALUES (value1, value2, value3, ...);\n",
    "\n",
    "<!-- select data -->\n",
    "SELECT column1, column2, ... FROM table_name\n",
    "WHERE condition;\n",
    "\n",
    "<!-- like operator -->\n",
    "SELECT column1, column2, ...\n",
    "FROM table_name\n",
    "WHERE columnN LIKE pattern;\n",
    "\n",
    "- %: zero, one, or multiple characters\n",
    "- _: one character"
   ]
  },
  {
   "attachments": {},
   "cell_type": "markdown",
   "metadata": {},
   "source": [
    "<!-- between and in -->\n",
    "SELECT column1, column2, ...\n",
    "FROM table_name\n",
    "WHERE columnN BETWEEN value1 AND value2;\n",
    "\n",
    "<!-- distinct -->\n",
    "SELECT DISTINCT column1, column2, ...\n",
    "FROM table_name;\n",
    "- distinct: remove duplicate rows\n",
    "\n",
    "<!-- order by -->\n",
    "SELECT column1, column2, ...\n",
    "FROM table_name\n",
    "ORDER BY column1, column2, ... ASC|DESC;\n",
    "- order by: sort rows by column(s)"
   ]
  },
  {
   "attachments": {},
   "cell_type": "markdown",
   "metadata": {},
   "source": [
    "<!-- aggregates -->\n",
    "SELECT aggregate_function(column1)\n",
    "FROM table_name\n",
    "WHERE condition\n",
    "GROUP BY column1\n",
    "HAVING condition\n",
    "ORDER BY column1;\n",
    "\n",
    "- aggregate functions: count, sum, avg, min, max\n",
    "\n",
    "<!-- join tables -->\n",
    "SELECT column_name(s)\n",
    "FROM table1 t1, table2 t2\n",
    "WHERE t1.column_name = t2.column_name;"
   ]
  },
  {
   "attachments": {},
   "cell_type": "markdown",
   "metadata": {},
   "source": [
    "<!-- update data -->\n",
    "UPDATE table_name\n",
    "SET column1 = value1, column2 = value2, ...\n",
    "WHERE condition;"
   ]
  },
  {
   "attachments": {},
   "cell_type": "markdown",
   "metadata": {},
   "source": [
    "### Python for SQL"
   ]
  },
  {
   "cell_type": "code",
   "execution_count": 1,
   "metadata": {},
   "outputs": [],
   "source": [
    "# create a database\n",
    "import sqlite3\n",
    "\n",
    "# create a connection to the database\n",
    "connection = sqlite3.connect('data/DATABASE.db')\n",
    "# create a cursor object\n",
    "cursor = connection.cursor()\n",
    "\n",
    "# TODO: database operations here\n",
    "sql_cmd = \"\"\"\n",
    "\n",
    "\"\"\"\n",
    "cursor.execute(sql_cmd)\n",
    "\n",
    "# close the connection\n",
    "connection.commit()\n",
    "connection.close()"
   ]
  },
  {
   "cell_type": "code",
   "execution_count": null,
   "metadata": {},
   "outputs": [],
   "source": [
    "# query the database\n",
    "import sqlite3\n",
    "\n",
    "# create a connection to the database\n",
    "connection = sqlite3.connect('data/DATABASE.db')\n",
    "# create a cursor object\n",
    "cursor = connection.cursor()\n",
    "\n",
    "# TODO: database operations here\n",
    "sql_cmd = \"\"\"\n",
    "\n",
    "\"\"\"\n",
    "cursor.execute(sql_cmd)\n",
    "\n",
    "# fetch all result\n",
    "# result = cursor.fetchall() \n",
    "# fetch one result\n",
    "# result = cursor.fetchone()\n",
    "\n",
    "\n",
    "# close the connection\n",
    "connection.commit()\n",
    "connection.close()"
   ]
  },
  {
   "attachments": {},
   "cell_type": "markdown",
   "metadata": {},
   "source": [
    "## Python for Excel"
   ]
  },
  {
   "cell_type": "code",
   "execution_count": 4,
   "metadata": {},
   "outputs": [],
   "source": [
    "import openpyxl\n",
    "from openpyxl.chart import AreaChart,Reference\n",
    "\n",
    "# create a workbook\n",
    "wb = openpyxl.Workbook()\n",
    "# get the active worksheet\n",
    "ws = wb.active\n",
    "\n",
    "# create a table\n",
    "rows = [\n",
    "['Number', 'Batch 1', 'Batch 2'],\n",
    "[2, 40, 30],\n",
    "[3, 40, 25],\n",
    "[4, 50, 30],\n",
    "[5, 30, 10],\n",
    "[6, 25, 5],\n",
    "[7, 50, 10],\n",
    "]\n",
    "\n",
    "# write the table to the worksheet\n",
    "for row in rows:\n",
    "    ws.append(row)\n",
    "\n",
    "# create a chart\n",
    "chart = AreaChart()\n",
    "chart.title = \"Area Chart\"\n",
    "chart.style = 13\n",
    "chart.x_axis.title = 'Test'\n",
    "chart.y_axis.title = 'Percentage'\n",
    "\n",
    "# add the data to the chart\n",
    "cats = Reference(ws, min_col=1, min_row=1,max_row=7) # create a reference to the first column (Number) from row 1 to 7\n",
    "data = Reference(ws, min_col=2, min_row=1,max_col=3, max_row=7) # create a reference to the second and third column (Batch 1 and Batch 2) from row 1 to 7\n",
    "chart.add_data(data, titles_from_data=True) # add the data to the chart\n",
    "chart.set_categories(cats)\n",
    "ws.add_chart(chart, \"A10\")\n",
    "wb.save(\"./data/area.xlsx\")"
   ]
  },
  {
   "cell_type": "code",
   "execution_count": null,
   "metadata": {},
   "outputs": [],
   "source": []
  }
 ],
 "metadata": {
  "kernelspec": {
   "display_name": "koala",
   "language": "python",
   "name": "python3"
  },
  "language_info": {
   "codemirror_mode": {
    "name": "ipython",
    "version": 3
   },
   "file_extension": ".py",
   "mimetype": "text/x-python",
   "name": "python",
   "nbconvert_exporter": "python",
   "pygments_lexer": "ipython3",
   "version": "3.7.13 (default, Mar 29 2022, 02:18:16) \n[GCC 7.5.0]"
  },
  "orig_nbformat": 4,
  "vscode": {
   "interpreter": {
    "hash": "a4afd7449bef34cfa19c0457a9269b23e3b0d84a70b952f375761135e38321d5"
   }
  }
 },
 "nbformat": 4,
 "nbformat_minor": 2
}
