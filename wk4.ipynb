{
 "cells": [
  {
   "attachments": {},
   "cell_type": "markdown",
   "metadata": {},
   "source": [
    "# Wk4 Software Development"
   ]
  },
  {
   "attachments": {},
   "cell_type": "markdown",
   "metadata": {},
   "source": [
    "Use case diagram\n",
    "- Actor\n",
    "    - ID\n",
    "    - Name\n",
    "    - Actor type\n",
    "    - Description\n",
    "- Function\n",
    "- Relationship\n",
    "    - Flow of events"
   ]
  },
  {
   "attachments": {},
   "cell_type": "markdown",
   "metadata": {},
   "source": [
    "Unified Modelling Language (UML)\n",
    "- Class name\n",
    "- Attributes\n",
    "- Operations"
   ]
  },
  {
   "attachments": {},
   "cell_type": "markdown",
   "metadata": {},
   "source": [
    "\"+\" is for public attributes or operations\n",
    "\"-\" is for private attributes or operations\n",
    "\"#\" is for protected attributes or operations\n",
    "\"~\" is for package attributes or operations"
   ]
  },
  {
   "attachments": {},
   "cell_type": "markdown",
   "metadata": {},
   "source": [
    "Number of objects\n",
    "- exactly one: 1\n",
    "- zero or one: 0..1\n",
    "- many: 0..* or *\n",
    "- one or more: 1..*\n",
    "- exactly n: n"
   ]
  },
  {
   "attachments": {},
   "cell_type": "markdown",
   "metadata": {},
   "source": [
    "Relationships\n",
    "- association (\"teacher\" class with \"student\" class indicates that teachers teach students)\n",
    "- dependency (a class is realized by another class, like \"PaymentProcessor\" with \"CreditCard\")\n",
    "- aggregation (whole-part relationship like \"library\" class with \"book\" class indicates that a library has books)\n",
    "- composition (where part can't exist without the whole like \"car\" class with \"wheel\" class indicates that a car has wheels)\n",
    "- inheritance (subclass inherits from superclass like \"truck\" class inherits from \"vehicle\" class)\n",
    "- realization (one class is realized by another class implementation, like ::Drawable maybe realized by Circle)"
   ]
  },
  {
   "attachments": {},
   "cell_type": "markdown",
   "metadata": {},
   "source": [
    "Software development process\n",
    "- designing\n",
    "- creating\n",
    "- deploying\n",
    "- maintaining"
   ]
  },
  {
   "attachments": {},
   "cell_type": "markdown",
   "metadata": {},
   "source": [
    "Software development life cycle\n",
    "- planning\n",
    "- defining\n",
    "- designing\n",
    "- implementing\n",
    "- testing\n",
    "- maintaining"
   ]
  },
  {
   "attachments": {},
   "cell_type": "markdown",
   "metadata": {},
   "source": [
    "What is Agile?"
   ]
  },
  {
   "attachments": {},
   "cell_type": "markdown",
   "metadata": {},
   "source": [
    "Agile is a project management and product development approach that emphasizes flexibility, collaboration, and customer-centricity. \n",
    "For example, building a puzzle with a team where you don't have to see the entire picture from the start. Instead, you create small pieces, or \"iterations,\" and continually adjust as you learn more about what the final picture should look like."
   ]
  },
  {
   "attachments": {},
   "cell_type": "markdown",
   "metadata": {},
   "source": [
    "Example: Building a Mobile App\n",
    "Imagine you're part of a team building a mobile app for a local grocery store. Using the Agile approach, you would:\n",
    "\n",
    "Start Small: Begin with a basic version of the app that allows users to view a list of available products.\n",
    "Get Feedback: Show this version to the store owners and some customers, asking what they like and what they'd like to see added or changed.\n",
    "Make Adjustments: Based on the feedback, you might decide to add a feature that lets users create a shopping list within the app.\n",
    "Repeat: Continue this cycle of building, getting feedback, and making adjustments until the app has all the desired features and functions smoothly.\n",
    "Reflect and Improve: After each iteration, the team would discuss what went well and what could be done better next time."
   ]
  },
  {
   "cell_type": "markdown",
   "metadata": {},
   "source": []
  }
 ],
 "metadata": {
  "language_info": {
   "name": "python"
  },
  "orig_nbformat": 4
 },
 "nbformat": 4,
 "nbformat_minor": 2
}
