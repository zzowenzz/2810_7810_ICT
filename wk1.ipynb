{
 "cells": [
  {
   "attachments": {},
   "cell_type": "markdown",
   "metadata": {},
   "source": [
    "# 2810 / 7810 ICT"
   ]
  },
  {
   "attachments": {},
   "cell_type": "markdown",
   "metadata": {},
   "source": [
    "## Course Intro"
   ]
  },
  {
   "attachments": {},
   "cell_type": "markdown",
   "metadata": {},
   "source": [
    "Pre-requisite: 1811ICT / 2807ICT PP1 "
   ]
  },
  {
   "attachments": {},
   "cell_type": "markdown",
   "metadata": {},
   "source": [
    " - Dr Yin, Xuefei (Kevin) (NA & OL)\n",
    "x.yin@griffith.edu.au\n",
    "\n",
    "- Prof. Pan, Shirui (GC)\n",
    "s.pan@griffith.edu.au\n",
    "\n",
    "- Nathan: Owen (Wanzhi Xing), w.xing@griffith.edu.au\n",
    "\n",
    "- Online: Dong Bao, dong.bao@griffithuni.edu.au\n",
    "\n",
    "- GC: Cailen Robertson, cailen.robertson@griffithuni.edu.au cailen01@gmail.com\t"
   ]
  },
  {
   "attachments": {},
   "cell_type": "markdown",
   "metadata": {},
   "source": [
    "- Assessed workshop (10%) in Week 8\n",
    "\n",
    "- Part-A assignment (25%) due in week 6 \n",
    "\n",
    "- Part-B assignment (35%) due in week 11\n",
    "\n",
    "- Final exam (30%) in the exam period (double pass >= 40%)"
   ]
  },
  {
   "attachments": {},
   "cell_type": "markdown",
   "metadata": {},
   "source": [
    "- Python 3 and various packages\n",
    "- Conda (i.e., miniconda/anaconda)\n",
    "- Python IDE (e.g., PyCharm)\n",
    "- Git\n"
   ]
  },
  {
   "attachments": {},
   "cell_type": "markdown",
   "metadata": {},
   "source": [
    "## Python review"
   ]
  },
  {
   "attachments": {},
   "cell_type": "markdown",
   "metadata": {},
   "source": [
    "conda (https://docs.conda.io/en/latest/)\n",
    "\n",
    "Conda is an open source package management system and environment management system that runs on Windows, macOS, and Linux. Conda quickly installs, runs and updates packages and their dependencies. Conda easily creates, saves, loads and switches between environments on your local computer. It was created for Python programs, but it can package and distribute software for any language."
   ]
  },
  {
   "cell_type": "code",
   "execution_count": null,
   "metadata": {},
   "outputs": [],
   "source": [
    "!conda"
   ]
  },
  {
   "cell_type": "code",
   "execution_count": null,
   "metadata": {},
   "outputs": [],
   "source": [
    "# list current env\n",
    "\n",
    "!conda env list"
   ]
  },
  {
   "cell_type": "code",
   "execution_count": null,
   "metadata": {},
   "outputs": [],
   "source": [
    "# create my own env\n",
    "\n",
    "# !conda create -n 2810ict python=3.6\n",
    "# !conda env lists\n",
    "# !conda activate 2810ict\n",
    "# !conda list"
   ]
  },
  {
   "cell_type": "code",
   "execution_count": null,
   "metadata": {},
   "outputs": [],
   "source": [
    "# search package\n",
    "!conda search scipy"
   ]
  },
  {
   "cell_type": "code",
   "execution_count": null,
   "metadata": {},
   "outputs": [],
   "source": [
    "# conda install \n",
    "\n",
    "# !conda install scipy"
   ]
  },
  {
   "cell_type": "code",
   "execution_count": null,
   "metadata": {},
   "outputs": [],
   "source": [
    "# compare the version\n",
    "\n",
    "# !conda create -n 7810ict python=3.10\n",
    "# !conda env lists\n",
    "# !conda activate 7810ict\n",
    "# !conda list"
   ]
  },
  {
   "attachments": {},
   "cell_type": "markdown",
   "metadata": {},
   "source": [
    "## Workshop 1"
   ]
  },
  {
   "attachments": {},
   "cell_type": "markdown",
   "metadata": {},
   "source": [
    "- install conda/miniconda\n",
    "- install pycharm\n",
    "- set up your Python programming environment\n",
    "    - open the Anaconda Prompt\n",
    "    - create a python environment\n",
    "    - create a python project\n",
    "    - create a python file"
   ]
  },
  {
   "cell_type": "code",
   "execution_count": null,
   "metadata": {},
   "outputs": [],
   "source": [
    "# Task 2\n",
    "# Find and print all numbers which are divisible by 7 \n",
    "# but are not a multiple of 5, between 2000 and 2100\n",
    "\n",
    "for i in range(2000, 2100):\n",
    "    if i % 7 == 0 and i % 5 != 0:\n",
    "        print(i)\n"
   ]
  },
  {
   "cell_type": "code",
   "execution_count": null,
   "metadata": {},
   "outputs": [],
   "source": [
    "# Task 3.1 \n",
    "# Write a program that prompt to read a time interval \n",
    "# in hours, minutes and seconds \n",
    "# and prints the equivalent time in just seconds.\n",
    "\n",
    "hours = int(input(\"Enter hours: \"))\n",
    "minutes = int(input(\"Enter minutes: \"))\n",
    "seconds = int(input(\"Enter seconds: \"))\n",
    "total_seconds = hours * 3600 + minutes * 60 + seconds\n",
    "print(\"Total seconds: \", total_seconds)"
   ]
  },
  {
   "cell_type": "code",
   "execution_count": null,
   "metadata": {},
   "outputs": [],
   "source": [
    "# Task 3.2 \n",
    "# Write a Python program that prompts to read a cost of an item \n",
    "# (less than or equal to one dollar), gives the number of \n",
    "# 50 cent, 20 cent, 10 cent, 5 cent and 1 cent coins \n",
    "# the buyer would receive if they handed one dollar. \n",
    "# You must minimise the number of coins in the change.\n",
    "\n",
    "cost = float(input(\"Enter cost: \"))\n",
    "change = 1 - cost\n",
    "print(\"Change: \", change)\n",
    "change_50 = change // 0.5\n",
    "change_20 = (change - change_50 * 0.5) // 0.2\n",
    "change_10 = (change - change_50 * 0.5 - change_20 * 0.2) // 0.1\n",
    "change_5 = (change - change_50 * 0.5 - change_20 * 0.2 - change_10 * 0.1) // 0.05\n",
    "change_1 = (change - change_50 * 0.5 - change_20 * 0.2 - change_10 * 0.1 - change_5 * 0.05) // 0.01\n",
    "print(\"50 cent: \", change_50)\n",
    "print(\"20 cent: \", change_20)\n",
    "print(\"10 cent: \", change_10)\n",
    "print(\"5 cent: \", change_5)\n",
    "print(\"1 cent: \", change_1)\n"
   ]
  },
  {
   "cell_type": "code",
   "execution_count": null,
   "metadata": {},
   "outputs": [],
   "source": [
    "# Problem 3.3 \n",
    "# Input an integer, print True if it is greater than zero \n",
    "# and print False if it is not greater than zero.\n",
    "\n",
    "num = int(input(\"Enter a number: \"))\n",
    "if num > 0:\n",
    "    print(True)\n",
    "else:\n",
    "    print(False)\n",
    "    "
   ]
  },
  {
   "cell_type": "code",
   "execution_count": null,
   "metadata": {},
   "outputs": [],
   "source": [
    "# Problem 4\n",
    "# Write Python code that reads two integers from the keyboard. \n",
    "# If the first integer is in the range 1. . 100 \n",
    "# and the first integer is less than the second integer \n",
    "# OR if the first integer is at least twice the second integer \n",
    "# and the second integer is not in the range -8..16 \n",
    "# (with the exception it can be zero) print True. \n",
    "# Otherwise print False. \n",
    "# You must NOT use the Python if or if-else statement. \n",
    "# All ranges are inclusive.\n",
    "\n",
    "num1 = int(input(\"Enter a number: \"))\n",
    "num2 = int(input(\"Enter a number: \"))\n",
    "print(num1 in range(1, 101) and (num1 < num2 or num1 >= num2 * 2) and (num2 not in range(-8, 17)) )\n",
    "\n"
   ]
  },
  {
   "cell_type": "code",
   "execution_count": null,
   "metadata": {},
   "outputs": [],
   "source": [
    "# Problem 5\n",
    "# Given three integers, a b c, one of them is small, \n",
    "# one is medium and one is large. \n",
    "# Print True if the three values are evenly spaced, \n",
    "# so the difference between small \n",
    "# and medium is the same as difference between medium and large. \n",
    "# Otherwise, print False.\n",
    "\n",
    "a = int(input(\"Enter a number: \"))\n",
    "b = int(input(\"Enter a number: \"))\n",
    "c = int(input(\"Enter a number: \"))\n",
    "if a > b:\n",
    "    if a > c:\n",
    "        if b > c:\n",
    "            print(a - b == b - c) # evenly spaced a -> b -> c\n",
    "        else:\n",
    "            print(a - c == c - b) # evenly spaced a -> c -> b\n",
    "    else:\n",
    "        print(c - a == a - b) # evenly spaced c -> a -> b"
   ]
  },
  {
   "cell_type": "code",
   "execution_count": null,
   "metadata": {},
   "outputs": [],
   "source": [
    "# Problem 6\n",
    "# Write a program which takes a number n and adds up the numbers in the range 0..n.\n",
    "\n",
    "n = int(input(\"Enter a number: \"))\n",
    "total = 0\n",
    "for i in range(n + 1):\n",
    "    total += i\n",
    "print(total)\n"
   ]
  },
  {
   "cell_type": "code",
   "execution_count": null,
   "metadata": {},
   "outputs": [],
   "source": [
    "# Problem 7\n",
    "# Given 2 strings, a and b, print a new string made of the first char of a \n",
    "# and the last char of b, so \"yo\" and \"Python\" yields \"yn\". \n",
    "# If either string is length 0, use '@' for its missing char. \n",
    "\n",
    "a = input(\"Enter a string: \")\n",
    "b = input(\"Enter a string: \")\n",
    "if len(a) == 0:\n",
    "    a = '@'\n",
    "if len(b) == 0:\n",
    "    b = '@'\n",
    "print(a[0] + b[-1])\n",
    "\n"
   ]
  },
  {
   "cell_type": "code",
   "execution_count": null,
   "metadata": {},
   "outputs": [],
   "source": [
    "# Problem 8\n",
    "# Given two strings, append them together (known as \"concatenation\") \n",
    "# and print the result. However, if the concatenation creates a double-char, \n",
    "# then omit one of the chars, so \"abc\" and \"cat\" yields \"abcat”.\n",
    "\n",
    "a = input(\"Enter a string: \")\n",
    "b = input(\"Enter a string: \")\n",
    "if a[-1] == b[0]:\n",
    "    print(a + b[1:])\n",
    "else:\n",
    "    print(a + b)\n",
    "    "
   ]
  },
  {
   "cell_type": "code",
   "execution_count": null,
   "metadata": {},
   "outputs": [],
   "source": [
    "# Problem 9\n",
    "# Given a number n, write while and for loops that add up the numbers \n",
    "# in the series 1,2,3,4,..., n-2, n-1, n and display the resultant sum. \n",
    "# The number n will be input by the user of the algorithm.\n",
    "\n",
    "# for loop\n",
    "n = int(input(\"Enter a number: \"))\n",
    "total = 0\n",
    "for i in range(1, n + 1):\n",
    "    total += i\n",
    "print(total)\n",
    "\n",
    "# while loop\n",
    "n = int(input(\"Enter a number: \"))\n",
    "total = 0\n",
    "i = 1\n",
    "while i <= n:\n",
    "    total += i\n",
    "    i += 1\n",
    "print(total)\n"
   ]
  },
  {
   "cell_type": "code",
   "execution_count": null,
   "metadata": {},
   "outputs": [],
   "source": [
    "# Problem 10\n",
    "# Given 2 strings, a and b, print a string of the form short+long+short, \n",
    "# with the shorter string on the outside and the longer string on the inside. \n",
    "# The strings will not be the same length, but they may be empty (length 0).\n",
    "\n",
    "a = input(\"Enter a string: \")\n",
    "b = input(\"Enter a string: \")\n",
    "if len(a) > len(b):\n",
    "    print(b + a + b)\n",
    "else:\n",
    "    print(a + b + a)\n"
   ]
  },
  {
   "cell_type": "code",
   "execution_count": null,
   "metadata": {},
   "outputs": [],
   "source": [
    "# Problem 11\n",
    "# Given a string, print a version without the first 2 chars. \n",
    "# Keep the first char if it is 'a' and keep the second char if it is 'b'. \n",
    "# The string may be any length.\n",
    "\n",
    "s = input(\"Enter a string: \")\n",
    "if len(s) > 2:\n",
    "    if s[0] == 'a':\n",
    "        if s[1] == 'b':\n",
    "            print(s)\n",
    "        else:\n",
    "            print(s[0] + s[2:])\n",
    "    else:\n",
    "        if s[1] == 'b':\n",
    "            print(s[1:])\n",
    "        else:\n",
    "            print(s[2:])\n",
    "else:\n",
    "    print(s)\n",
    "\n"
   ]
  },
  {
   "cell_type": "code",
   "execution_count": null,
   "metadata": {},
   "outputs": [],
   "source": [
    "# Problem 12\n",
    "# Input a list of integers, print True if 6 appears as either the first \n",
    "# or last element in the list. The list will be length 1 or more.\n",
    "\n",
    "lst = input(\"Enter a list of integers: \")\n",
    "lst = lst.split()\n",
    "if lst[0] == '6' or lst[-1] == '6':\n",
    "    print(True)\n",
    "else:\n",
    "    print(False)\n",
    "\n"
   ]
  },
  {
   "cell_type": "code",
   "execution_count": null,
   "metadata": {},
   "outputs": [],
   "source": [
    "# Problem 13\n",
    "# Say that a \"clump\" in a list is a series of 2 or more adjacent elements of the same value. \n",
    "# Print the number of clumps in the given list.\n",
    "\n",
    "def count_clumps(lst):\n",
    "    lst = lst.split()\n",
    "    clumps = 0\n",
    "    count = 1\n",
    "    n = len(lst)\n",
    "\n",
    "    for i in range(1, n):\n",
    "        if lst[i] == lst[i - 1]:\n",
    "            count += 1\n",
    "        else:\n",
    "            if count >= 2:\n",
    "                clumps += 1\n",
    "            count = 1\n",
    "\n",
    "    if count >= 2:  # Check the last clump\n",
    "        clumps += 1\n",
    "\n",
    "    return clumps\n",
    "\n",
    "# Example usage\n",
    "lst = input(\"Enter a list of integers: \")\n",
    "print(count_clumps(lst))\n"
   ]
  },
  {
   "cell_type": "code",
   "execution_count": null,
   "metadata": {},
   "outputs": [],
   "source": [
    "# Problem 14\n",
    "#  Write a program that reads the file phillip.txt, \n",
    "# counts the number of words in the file, \n",
    "# and prints out the count. \n",
    "# (Note: If there is an issue with the encoding when opening the file, \n",
    "# you should open it with encoding as \"ISO-8859-1\".)\n",
    "\n",
    "f = open(\"./data/phillip.txt\", encoding=\"ISO-8859-1\")\n",
    "count = 0\n",
    "for lines in f:\n",
    "    count += len(lines.split())\n",
    "print(count)\n"
   ]
  },
  {
   "cell_type": "code",
   "execution_count": null,
   "metadata": {},
   "outputs": [],
   "source": [
    "# Problem 15\n",
    "# Write a function that given a list length 1 or more of integers, \n",
    "# print the difference between the largest and smallest values in the list.\n",
    "\n",
    "def difference(lst):\n",
    "    lst = lst.split()\n",
    "    lst = [int(i) for i in lst]\n",
    "    return max(lst) - min(lst)\n",
    "\n",
    "# Example usage\n",
    "lst = input(\"Enter a list of integers: \")\n",
    "print(difference(lst))"
   ]
  },
  {
   "cell_type": "code",
   "execution_count": null,
   "metadata": {},
   "outputs": [],
   "source": [
    "# Problem 16\n",
    "#  Define a business class. \n",
    "# Write a constructor ( init ) to set up the business with initial values \n",
    "# including name, address, founding year, email address and phone number. \n",
    "# Write a function called changephone to update the phone number.\n",
    "\n",
    "class Business:\n",
    "    def __init__(self, name, address, founding_year, email, phone):\n",
    "        self.name = name\n",
    "        self.address = address\n",
    "        self.founding_year = founding_year\n",
    "        self.email = email\n",
    "        self.phone = phone\n",
    "\n",
    "    def changephone(self, new_phone):\n",
    "        self.phone = new_phone\n",
    "\n",
    "# Create an instance of the Business class\n",
    "my_business = Business(\"My Company\", \"123 Main St\", 2005, \"info@example.com\", \"123-456-7890\")\n",
    "\n",
    "# Print initial values\n",
    "print(my_business.name)  # Output: My Company\n",
    "print(my_business.address)  # Output: 123 Main St\n",
    "print(my_business.founding_year)  # Output: 2005\n",
    "print(my_business.email)  # Output: info@example.com\n",
    "print(my_business.phone)  # Output: 123-456-7890\n",
    "\n",
    "# Change the phone number\n",
    "my_business.changephone(\"987-654-3210\")\n",
    "\n",
    "# Print updated phone number\n",
    "print(my_business.phone)  # Output: 987-654-3210\n"
   ]
  },
  {
   "attachments": {},
   "cell_type": "markdown",
   "metadata": {},
   "source": [
    "## What is data structure in python?"
   ]
  },
  {
   "attachments": {},
   "cell_type": "markdown",
   "metadata": {},
   "source": [
    "In Python, a data structure is a way of organizing and storing data in a structured and efficient manner. It provides a set of operations or methods for accessing, manipulating, and managing the data."
   ]
  },
  {
   "cell_type": "code",
   "execution_count": null,
   "metadata": {},
   "outputs": [],
   "source": [
    "# Lists\n",
    "a = [1,2,3,4,5]\n",
    "\n",
    "# Tuples\n",
    "b = (1,2,3,4,5)\n",
    "\n",
    "# Dictionaries\n",
    "c = {'a':1, 'b':2, 'c':3}\n",
    "\n",
    "# Sets\n",
    "d = {1,2,3,4,5}\n",
    "\n",
    "# Strings\n",
    "e = 'Hello World'\n",
    "\n",
    "# Arrays\n",
    "f = np.array([1,2,3,4,5])"
   ]
  },
  {
   "cell_type": "code",
   "execution_count": null,
   "metadata": {},
   "outputs": [],
   "source": [
    "# Stack: Last in First out\n",
    "# stack implementation\n",
    "stack = []\n",
    "stack.append(\"apple\")\n",
    "stack.append(\"banana\")\n",
    "stack.append(\"cherry\")\n",
    "\n",
    "print(stack)\n",
    "\n",
    "popped_element = stack.pop()\n",
    "print(popped_element)\n",
    "print(stack)"
   ]
  },
  {
   "cell_type": "code",
   "execution_count": null,
   "metadata": {},
   "outputs": [],
   "source": [
    "# Queue: First in First out\n",
    "class Queue:\n",
    "    def __init__(self):\n",
    "        self.items = []\n",
    "\n",
    "    def is_empty(self):\n",
    "        return len(self.items) == 0\n",
    "\n",
    "    def enqueue(self, item):\n",
    "        self.items.append(item)\n",
    "\n",
    "    def dequeue(self):\n",
    "        if self.is_empty():\n",
    "            raise IndexError(\"Queue is empty\")\n",
    "        return self.items.pop(0)\n",
    "\n",
    "    def size(self):\n",
    "        return len(self.items)\n",
    "\n",
    "queue = Queue()\n",
    "queue.enqueue(10)\n",
    "queue.enqueue(20)\n",
    "queue.enqueue(30)\n",
    "\n",
    "print(queue.dequeue())  # Output: 10\n",
    "print(queue.dequeue())  # Output: 20\n",
    "\n",
    "print(queue.size())  # Output: 1\n",
    "print(queue.is_empty())  # Output: False\n",
    "print(queue.dequeue())  # Output: 30"
   ]
  },
  {
   "attachments": {},
   "cell_type": "markdown",
   "metadata": {},
   "source": [
    "## Algorithm complexity (not in this course)"
   ]
  },
  {
   "attachments": {},
   "cell_type": "markdown",
   "metadata": {},
   "source": [
    "- Big O Notation: Big O notation is a mathematical notation used to describe the upper bound or worst-case scenario of an algorithm's time complexity, aka $O(f(n))$ where $f(n)$ is the grow rate with respect to the input size. It provides a standard way to express how the runtime of an algorithm grows as the input size increases. You can analyze the algorithm and determine its time complexity by identifying the dominant operations and their relationship to the input size.\n",
    "\n",
    "    - $O(1)$. Constant Time Complexity. Not depend on the input size\n",
    "    - $O(log n)$. Logarithmic Time Complexity.\n",
    "    - $O(n)$. Linear Time Complexity.\n",
    "    - $O(n log n)$. Linearithmic Time Complexity.\n",
    "    - $O(n^2)$. Quadratic Time Complexity.\n",
    "    - $O(2^n)$. Exponential Time Complexity"
   ]
  },
  {
   "cell_type": "code",
   "execution_count": null,
   "metadata": {},
   "outputs": [],
   "source": [
    "# O(1): Constant Time Complexity\n",
    "def print_first_element(lst):\n",
    "    print(lst[0]) # always accesses the first element\n",
    "\n",
    "my_list = [1, 2, 3, 4, 5]\n",
    "print_first_element(my_list)\n"
   ]
  },
  {
   "cell_type": "code",
   "execution_count": null,
   "metadata": {},
   "outputs": [],
   "source": [
    "# O(log n): Logarithmic Time Complexity\n",
    "def binary_search(arr, target):\n",
    "    low = 0\n",
    "    high = len(arr) - 1\n",
    "    \n",
    "    # binary search on a sorted list. \n",
    "    # with each iteration, the problem size is halved\n",
    "    while low <= high:\n",
    "        mid = (low + high) // 2\n",
    "        if arr[mid] == target:\n",
    "            return mid\n",
    "        elif arr[mid] < target:\n",
    "            low = mid + 1\n",
    "        else:\n",
    "            high = mid - 1\n",
    "\n",
    "    return -1\n",
    "\n",
    "my_list = [1, 2, 3, 4, 5, 6, 7, 8, 9, 10]\n",
    "target = 6\n",
    "result = binary_search(my_list, target)\n",
    "print(result)\n"
   ]
  },
  {
   "cell_type": "code",
   "execution_count": null,
   "metadata": {},
   "outputs": [],
   "source": [
    "# O(n): Linear Time Complexity\n",
    "\n",
    "def find_max_value(arr):\n",
    "    max_value = arr[0]\n",
    "    # iterates through each element of the list\n",
    "    for num in arr:\n",
    "        if num > max_value:\n",
    "            max_value = num\n",
    "    return max_value\n",
    "\n",
    "my_list = [5, 8, 3, 9, 2, 1]\n",
    "max_value = find_max_value(my_list)\n",
    "print(max_value)\n"
   ]
  },
  {
   "cell_type": "code",
   "execution_count": null,
   "metadata": {},
   "outputs": [],
   "source": [
    "# O(n log n): Linearithmic Time Complexity\n",
    "\n",
    "def merge_sort(arr):\n",
    "    if len(arr) <= 1:\n",
    "        return arr\n",
    "\n",
    "    mid = len(arr) // 2\n",
    "    left_half = arr[:mid]\n",
    "    right_half = arr[mid:]\n",
    "\n",
    "    # divides the list into smaller halves until the base case is reached\n",
    "    left_half = merge_sort(left_half)\n",
    "    right_half = merge_sort(right_half)\n",
    "\n",
    "    return merge(left_half, right_half)\n",
    "\n",
    "def merge(left, right):\n",
    "    merged = []\n",
    "    i = j = 0\n",
    "\n",
    "    while i < len(left) and j < len(right):\n",
    "        if left[i] <= right[j]:\n",
    "            merged.append(left[i])\n",
    "            i += 1\n",
    "        else:\n",
    "            merged.append(right[j])\n",
    "            j += 1\n",
    "\n",
    "    merged.extend(left[i:])\n",
    "    merged.extend(right[j:])\n",
    "\n",
    "    return merged\n",
    "\n",
    "my_list = [5, 2, 9, 1, 8, 3]\n",
    "sorted_list = merge_sort(my_list)\n",
    "print(sorted_list)\n"
   ]
  },
  {
   "cell_type": "code",
   "execution_count": null,
   "metadata": {},
   "outputs": [],
   "source": [
    "# O(n^2): Quadratic Time Complexity\n",
    "\n",
    "def bubble_sort(arr):\n",
    "    n = len(arr)\n",
    "    # repeatedly swaps adjacent elements\n",
    "    for i in range(n - 1):\n",
    "        for j in range(n - 1 - i):\n",
    "            if arr[j] > arr[j + 1]:\n",
    "                arr[j], arr[j + 1] = arr[j + 1], arr[j]\n",
    "\n",
    "my_list = [5, 2, 9, 1, 8, 3]\n",
    "bubble_sort(my_list)\n",
    "print(my_list)\n"
   ]
  }
 ],
 "metadata": {
  "kernelspec": {
   "display_name": "owen",
   "language": "python",
   "name": "python3"
  },
  "language_info": {
   "codemirror_mode": {
    "name": "ipython",
    "version": 3
   },
   "file_extension": ".py",
   "mimetype": "text/x-python",
   "name": "python",
   "nbconvert_exporter": "python",
   "pygments_lexer": "ipython3",
   "version": "3.7.16 (default, Jan 17 2023, 22:20:44) \n[GCC 11.2.0]"
  },
  "orig_nbformat": 4,
  "vscode": {
   "interpreter": {
    "hash": "3524bea45e5ea4fb5bff9663912ee650f446ae70e13d440a1dde928097fd5e29"
   }
  }
 },
 "nbformat": 4,
 "nbformat_minor": 2
}
