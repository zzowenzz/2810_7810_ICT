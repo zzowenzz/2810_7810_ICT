{
 "cells": [
  {
   "attachments": {},
   "cell_type": "markdown",
   "metadata": {},
   "source": [
    "# Wk3 workshop"
   ]
  },
  {
   "attachments": {},
   "cell_type": "markdown",
   "metadata": {},
   "source": [
    "What is project management?"
   ]
  },
  {
   "attachments": {},
   "cell_type": "markdown",
   "metadata": {},
   "source": [
    "- Project management is the application of knowledge, skills, tools, and techniques to project activities to meet project requirements.\n",
    "- The processes involved in project management can be grouped as initiating, planning, executing, controlling, and closing a project"
   ]
  },
  {
   "attachments": {},
   "cell_type": "markdown",
   "metadata": {},
   "source": [
    "Four core knowledge areas\n",
    "- scope\n",
    "- time\n",
    "- cost\n",
    "- quality  "
   ]
  },
  {
   "attachments": {},
   "cell_type": "markdown",
   "metadata": {},
   "source": [
    "What is Work Breakdown Structure (WBS)?"
   ]
  },
  {
   "attachments": {},
   "cell_type": "markdown",
   "metadata": {},
   "source": [
    "- a deliverable-oriented grouping of the work involved in a project that defines the total scope of the project\n",
    "- foundation document used for planning and managing project schedules, costs, resources, and changes\n",
    "- created by a decomposition process of subdividing project deliverables into smaller pieces"
   ]
  },
  {
   "attachments": {},
   "cell_type": "markdown",
   "metadata": {},
   "source": [
    "- top-down approach: Start with the largest items of the project and break them down.\n",
    "- bottom-up approach: Start with the specific tasks and roll them up.\n",
    "- mind-mapping approach: Write tasks in a non-linear, branching format and then create the WBS structure"
   ]
  },
  {
   "attachments": {},
   "cell_type": "markdown",
   "metadata": {},
   "source": [
    "What is Network Diagrams?"
   ]
  },
  {
   "attachments": {},
   "cell_type": "markdown",
   "metadata": {},
   "source": [
    "A network diagram is a schematic display of the logical relationships among all the project activities\n",
    "\n",
    "- arrow\n",
    "- precedence diagramming method (PDM)"
   ]
  },
  {
   "attachments": {},
   "cell_type": "markdown",
   "metadata": {},
   "source": [
    "What is Gantt Chart?"
   ]
  },
  {
   "attachments": {},
   "cell_type": "markdown",
   "metadata": {},
   "source": [
    "Standard format for displaying project schedule information by listing project activities and their corresponding start and finish dates in a calendar format"
   ]
  },
  {
   "attachments": {},
   "cell_type": "markdown",
   "metadata": {},
   "source": [
    "What is Critical Path Method (CPM)?"
   ]
  },
  {
   "attachments": {},
   "cell_type": "markdown",
   "metadata": {},
   "source": [
    "A network diagramming technique used to predict total project duration\n",
    "\n",
    "- Critical path: longest path through the network diagram and has the least amount of float\n",
    "- float (or slack) is the amount of time an activity can be delayed without delaying a succeeding activity or the project finish date"
   ]
  },
  {
   "attachments": {},
   "cell_type": "markdown",
   "metadata": {},
   "source": [
    "# Workshop content"
   ]
  },
  {
   "cell_type": "markdown",
   "metadata": {},
   "source": []
  }
 ],
 "metadata": {
  "language_info": {
   "name": "python"
  },
  "orig_nbformat": 4
 },
 "nbformat": 4,
 "nbformat_minor": 2
}
