{
 "cells": [
  {
   "attachments": {},
   "cell_type": "markdown",
   "metadata": {},
   "source": [
    "# Week 2 workshop"
   ]
  },
  {
   "attachments": {},
   "cell_type": "markdown",
   "metadata": {},
   "source": [
    "## What is Software Configuration Management?"
   ]
  },
  {
   "attachments": {},
   "cell_type": "markdown",
   "metadata": {},
   "source": [
    "- Version Control\n",
    "- Build Management\n",
    "- Change Management\n",
    "- Release Management\n",
    "- Parallel Development\n",
    "- Workspace Management"
   ]
  },
  {
   "attachments": {},
   "cell_type": "markdown",
   "metadata": {},
   "source": [
    "## What is version control?"
   ]
  },
  {
   "attachments": {},
   "cell_type": "markdown",
   "metadata": {},
   "source": [
    "- History Tracking\n",
    "- Concurrency & Collaboration\n",
    "- Branching & Merging\n",
    "- Conflict Resolution\n",
    "- Backup & Restore"
   ]
  },
  {
   "attachments": {},
   "cell_type": "markdown",
   "metadata": {},
   "source": [
    "## Two main types of version control\n",
    "\n",
    "- Local Version Control Systems\n",
    "keeping track of files within the local system. \n",
    "\n",
    "- Centralized version control systems \n",
    "Repository is stored in a central server and collaborators must connect to this server to commit changes or update their local copies.\n",
    "\n",
    "- Distributed version control systems \n",
    "Every user has a complete copy of the repository on their local machine, enabling work without a constant connection to a central server and providing an additional layer of backup."
   ]
  },
  {
   "attachments": {},
   "cell_type": "markdown",
   "metadata": {},
   "source": [
    "# Workshop question"
   ]
  },
  {
   "attachments": {},
   "cell_type": "markdown",
   "metadata": {},
   "source": [
    "Task 0 – Make sure you have GIT installed"
   ]
  },
  {
   "attachments": {},
   "cell_type": "markdown",
   "metadata": {},
   "source": [
    "Task 1 – GitHub\n",
    "\n",
    "- Create a GitHub account and repository\n",
    "\n",
    "- Create a local repository\n",
    "    - git clone [REMOTE REPOSITORY URL]\n",
    "\n",
    "- Add the initial python word frequency program to the local repository, then push it to the server\n",
    "\n",
    "- Write a histogram program\n",
    "    - Create a new file in your local repo called histogram.py. This program should read a series of tuples containing numbers and labels from standard input.\n",
    "    - try and pipe the output from wordfreq to the input of histogram.py\n",
    "    [python wordfreq.py < test.txt | python histogram.py]\n",
    "    - Commit the new file"
   ]
  },
  {
   "attachments": {},
   "cell_type": "markdown",
   "metadata": {},
   "source": [
    "- Modify wordfreq.py to read from a text file (for now, hard code “test.txt”) \n",
    "    - Instead of reading from standard input, change the program to read from a file.\n",
    "    - [python wordfreq.py | python histogram.py]\n",
    "\n",
    "- Revert back to the original method\n",
    "    - output the gitlog to a file using: git log > git_log.txt\n",
    "    - git revert --no-edit <hash>\n",
    "    - push to update the remote repository.\n"
   ]
  },
  {
   "attachments": {},
   "cell_type": "markdown",
   "metadata": {},
   "source": [
    "## Git tutoral"
   ]
  },
  {
   "attachments": {},
   "cell_type": "markdown",
   "metadata": {},
   "source": [
    "What is Git?\n",
    "\n",
    "Distributed version control system (DVCS) designed to track changes to files in a project over time, enabling multiple people to work on the same project concurrently without overwriting each other's changes."
   ]
  },
  {
   "attachments": {},
   "cell_type": "markdown",
   "metadata": {},
   "source": [
    "What is Git command?\n",
    "\n",
    "Perform operations like creating repositories, making changes to files, creating and merging branches, and syncing your local repository with a remote repository. "
   ]
  },
  {
   "attachments": {},
   "cell_type": "markdown",
   "metadata": {},
   "source": [
    "cd Desktop\n",
    "\n",
    "mkdir test\n",
    "\n",
    "cd test\n",
    "\n",
    "git \n",
    "\n",
    "git add .\n",
    "\n",
    "git status\n",
    "\n",
    "git init\n",
    "\n",
    "touch 1.txt\n",
    "\n",
    "git add 1.txt\n",
    "\n",
    "git commit -m \"create empty file 1.txt\"\n",
    "\n",
    "<!-- git push -->\n",
    "<!-- git pull -->"
   ]
  },
  {
   "attachments": {},
   "cell_type": "markdown",
   "metadata": {},
   "source": [
    "git log\n",
    "\n",
    "git log --oneline\n",
    "\n",
    "git branch\n",
    "\n",
    "git branch owen\n",
    "\n",
    "git branch\n",
    "\n",
    "<!-- git log -->\n",
    "\n",
    "git checkout owen\n",
    "\n",
    "<!-- git log -->\n",
    "\n",
    "<!-- nano 1.txt\n",
    "dsddqwq -->\n",
    "\n",
    "git checkout 1.txt <!-- discard the change -->\n"
   ]
  },
  {
   "attachments": {},
   "cell_type": "markdown",
   "metadata": {},
   "source": [
    "<!-- ls -->\n",
    "\n",
    "git checkout owen\n",
    "\n",
    "touch 2.txt\n",
    "\n",
    "git add 2.txt\n",
    "\n",
    "git commit -m \"create empty file 2.txt\"\n",
    "\n",
    "git checkout master\n",
    "\n",
    "<!-- ls -->\n",
    "\n",
    "git merge owen\n",
    "\n",
    "<!-- ls -->\n",
    "\n",
    "git log --oneline"
   ]
  },
  {
   "attachments": {},
   "cell_type": "markdown",
   "metadata": {},
   "source": [
    "git checkout master\n",
    "\n",
    "touch 3.txt\n",
    "\n",
    "git add .\n",
    "\n",
    "git commit -m \"create empty file 3.txt\"\n",
    "\n",
    "git log \n",
    "\n",
    "git revert [HASH]\n",
    "\n",
    "git log\n"
   ]
  },
  {
   "cell_type": "markdown",
   "metadata": {},
   "source": []
  }
 ],
 "metadata": {
  "language_info": {
   "name": "python"
  },
  "orig_nbformat": 4
 },
 "nbformat": 4,
 "nbformat_minor": 2
}
